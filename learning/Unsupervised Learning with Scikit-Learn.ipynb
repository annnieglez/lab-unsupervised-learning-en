{
 "cells": [
  {
   "cell_type": "markdown",
   "metadata": {},
   "source": [
    "# Unsupervised Learning with Scikit-Learn\n",
    "\n",
    "## Lesson Goals\n",
    "\n",
    "This lesson will serve as an introduction to unsupervised learning using Scikit-learn. A number of essential algorithms will be covered along with implementation and examples.\n",
    "\n",
    "\n",
    "## Introduction\n",
    "\n",
    "Clustering is a family of algorithms for uncovering relationships and insight in a dataset. The data is not labeled and so there is no ground truth answer that we are trying to predict. Instead, we use different algorithms to group observations together and uncover what they might have in common. There are multiple clustering techniques. In this lesson we will cover two clustering techniques - K-means and Hierarchical Clustering.\n",
    "\n",
    "\n",
    "## K-means\n",
    "\n",
    "K-means is one of the oldest and most popular clustering techniques. The main idea behind k-means clustering is that we choose how many clusters we would like to create (typically we call that number k). We then select random starting points for those cluster centroids. We compute the distance between each observation and the clusters. We reassign a cluster to each observation and then recompute the centroids. We keep doing so until the labels stay constant and we no longer need to reassign.\n",
    "\n",
    "\n",
    "## K-means in Scikit-Learn\n",
    "\n",
    "We will explore k-means with scikit-learn using our census data. We first load the data. "
   ]
  },
  {
   "cell_type": "code",
   "execution_count": 3,
   "metadata": {},
   "outputs": [
    {
     "data": {
      "application/vnd.microsoft.datawrangler.viewer.v0+json": {
       "columns": [
        {
         "name": "index",
         "rawType": "object",
         "type": "string"
        },
        {
         "name": "CensusId",
         "rawType": "float64",
         "type": "float"
        },
        {
         "name": "TotalPop",
         "rawType": "float64",
         "type": "float"
        },
        {
         "name": "Men",
         "rawType": "float64",
         "type": "float"
        },
        {
         "name": "Women",
         "rawType": "float64",
         "type": "float"
        },
        {
         "name": "Hispanic",
         "rawType": "float64",
         "type": "float"
        },
        {
         "name": "White",
         "rawType": "float64",
         "type": "float"
        },
        {
         "name": "Black",
         "rawType": "float64",
         "type": "float"
        },
        {
         "name": "Native",
         "rawType": "float64",
         "type": "float"
        },
        {
         "name": "Asian",
         "rawType": "float64",
         "type": "float"
        },
        {
         "name": "Pacific",
         "rawType": "float64",
         "type": "float"
        },
        {
         "name": "Citizen",
         "rawType": "float64",
         "type": "float"
        },
        {
         "name": "Income",
         "rawType": "float64",
         "type": "float"
        },
        {
         "name": "IncomeErr",
         "rawType": "float64",
         "type": "float"
        },
        {
         "name": "IncomePerCap",
         "rawType": "float64",
         "type": "float"
        },
        {
         "name": "IncomePerCapErr",
         "rawType": "float64",
         "type": "float"
        },
        {
         "name": "Poverty",
         "rawType": "float64",
         "type": "float"
        },
        {
         "name": "ChildPoverty",
         "rawType": "float64",
         "type": "float"
        },
        {
         "name": "Professional",
         "rawType": "float64",
         "type": "float"
        },
        {
         "name": "Service",
         "rawType": "float64",
         "type": "float"
        },
        {
         "name": "Office",
         "rawType": "float64",
         "type": "float"
        },
        {
         "name": "Construction",
         "rawType": "float64",
         "type": "float"
        },
        {
         "name": "Production",
         "rawType": "float64",
         "type": "float"
        },
        {
         "name": "Drive",
         "rawType": "float64",
         "type": "float"
        },
        {
         "name": "Carpool",
         "rawType": "float64",
         "type": "float"
        },
        {
         "name": "Transit",
         "rawType": "float64",
         "type": "float"
        },
        {
         "name": "Walk",
         "rawType": "float64",
         "type": "float"
        },
        {
         "name": "OtherTransp",
         "rawType": "float64",
         "type": "float"
        },
        {
         "name": "WorkAtHome",
         "rawType": "float64",
         "type": "float"
        },
        {
         "name": "MeanCommute",
         "rawType": "float64",
         "type": "float"
        },
        {
         "name": "Employed",
         "rawType": "float64",
         "type": "float"
        },
        {
         "name": "PrivateWork",
         "rawType": "float64",
         "type": "float"
        },
        {
         "name": "PublicWork",
         "rawType": "float64",
         "type": "float"
        },
        {
         "name": "SelfEmployed",
         "rawType": "float64",
         "type": "float"
        },
        {
         "name": "FamilyWork",
         "rawType": "float64",
         "type": "float"
        },
        {
         "name": "Unemployment",
         "rawType": "float64",
         "type": "float"
        }
       ],
       "conversionMethod": "pd.DataFrame",
       "ref": "b982fdf0-5e38-4287-8202-f9129fea0f2b",
       "rows": [
        [
         "count",
         "3220.0",
         "3220.0",
         "3220.0",
         "3220.0",
         "3220.0",
         "3220.0",
         "3220.0",
         "3220.0",
         "3220.0",
         "3220.0",
         "3220.0",
         "3219.0",
         "3219.0",
         "3220.0",
         "3220.0",
         "3220.0",
         "3219.0",
         "3220.0",
         "3220.0",
         "3220.0",
         "3220.0",
         "3220.0",
         "3220.0",
         "3220.0",
         "3220.0",
         "3220.0",
         "3220.0",
         "3220.0",
         "3220.0",
         "3220.0",
         "3220.0",
         "3220.0",
         "3220.0",
         "3220.0",
         "3220.0"
        ],
        [
         "mean",
         "31393.605279503106",
         "99409.34596273291",
         "48896.93788819876",
         "50512.40807453416",
         "11.011521739130435",
         "75.42878881987578",
         "8.665496894409939",
         "1.7235093167701863",
         "1.2290683229813666",
         "0.08273291925465838",
         "69935.07173913044",
         "46129.868903386145",
         "2850.395464429947",
         "23981.771739130436",
         "1362.5189440993788",
         "17.493260869565216",
         "24.18080149114632",
         "30.990621118012424",
         "18.34639751552795",
         "22.215807453416147",
         "12.71409937888199",
         "15.733385093167701",
         "79.1819254658385",
         "10.278757763975158",
         "0.9718322981366461",
         "3.3235093167701866",
         "1.6127329192546584",
         "4.6317701863354035",
         "23.278757763975158",
         "45593.51832298136",
         "74.21934782608696",
         "17.56086956521739",
         "7.931801242236025",
         "0.28810559006211184",
         "8.094440993788819"
        ],
        [
         "std",
         "16292.078953983822",
         "319305.45373083575",
         "156681.27685618776",
         "162661.95282273277",
         "19.241380043491997",
         "22.932890473025374",
         "14.279121600097987",
         "7.2531149449099415",
         "2.633078654597144",
         "0.7349314571828657",
         "205118.90737069774",
         "12911.29793957068",
         "1918.9422729016514",
         "6204.3399601295205",
         "1049.875689300244",
         "8.31788298246577",
         "11.698329170697903",
         "6.368378622109879",
         "3.6357638218460826",
         "3.1996818244574925",
         "4.216784016242622",
         "5.736307659785872",
         "7.657972190769045",
         "2.9078968780205368",
         "3.059019490824498",
         "3.756095608910197",
         "1.6709883035580164",
         "3.1787720050455768",
         "5.600465604147745",
         "149699.5043156594",
         "7.863187963866184",
         "6.510353776524045",
         "3.9149740634661456",
         "0.45513686210772186",
         "4.096114226101848"
        ],
        [
         "min",
         "1001.0",
         "85.0",
         "42.0",
         "43.0",
         "0.0",
         "0.0",
         "0.0",
         "0.0",
         "0.0",
         "0.0",
         "80.0",
         "10499.0",
         "270.0",
         "5878.0",
         "113.0",
         "1.4",
         "0.0",
         "13.5",
         "5.0",
         "4.1",
         "1.7",
         "0.0",
         "5.2",
         "0.0",
         "0.0",
         "0.0",
         "0.0",
         "0.0",
         "4.9",
         "62.0",
         "25.0",
         "5.8",
         "0.0",
         "0.0",
         "0.0"
        ],
        [
         "25%",
         "19032.5",
         "11218.0",
         "5637.25",
         "5572.0",
         "1.9",
         "64.1",
         "0.5",
         "0.1",
         "0.2",
         "0.0",
         "8450.5",
         "38191.5",
         "1635.0",
         "20238.5",
         "755.0",
         "12.1",
         "16.3",
         "26.7",
         "16.0",
         "20.2",
         "9.8",
         "11.5",
         "76.6",
         "8.4",
         "0.1",
         "1.4",
         "0.9",
         "2.7",
         "19.5",
         "4550.75",
         "70.5",
         "13.1",
         "5.4",
         "0.1",
         "5.5"
        ],
        [
         "50%",
         "30024.0",
         "26035.0",
         "12932.0",
         "13057.0",
         "3.9",
         "84.1",
         "1.9",
         "0.3",
         "0.5",
         "0.0",
         "19643.0",
         "44749.0",
         "2406.0",
         "23460.0",
         "1096.5",
         "16.15",
         "22.7",
         "29.9",
         "18.1",
         "22.4",
         "12.1",
         "15.25",
         "80.7",
         "9.9",
         "0.4",
         "2.4",
         "1.3",
         "3.9",
         "23.0",
         "10508.0",
         "75.7",
         "16.2",
         "6.9",
         "0.2",
         "7.6"
        ],
        [
         "75%",
         "46105.5",
         "66430.5",
         "32992.75",
         "33487.5",
         "9.825000000000001",
         "93.2",
         "9.6",
         "0.6",
         "1.2",
         "0.0",
         "49920.5",
         "52074.0",
         "3446.0",
         "27053.25",
         "1631.0",
         "20.7",
         "30.0",
         "34.4",
         "20.3",
         "24.4",
         "14.9",
         "19.325",
         "83.7",
         "11.8",
         "0.8",
         "4.0",
         "1.9",
         "5.6",
         "26.8",
         "28632.75",
         "79.7",
         "20.5",
         "9.4",
         "0.3",
         "9.9"
        ],
        [
         "max",
         "72153.0",
         "10038388.0",
         "4945351.0",
         "5093037.0",
         "99.9",
         "99.8",
         "85.9",
         "92.1",
         "41.6",
         "35.3",
         "6046749.0",
         "123453.0",
         "21355.0",
         "65600.0",
         "15266.0",
         "64.2",
         "81.6",
         "74.0",
         "38.2",
         "35.4",
         "40.3",
         "55.6",
         "94.6",
         "29.9",
         "61.7",
         "71.2",
         "39.1",
         "37.2",
         "44.0",
         "4635465.0",
         "88.3",
         "66.2",
         "36.6",
         "9.8",
         "36.5"
        ]
       ],
       "shape": {
        "columns": 35,
        "rows": 8
       }
      },
      "text/html": [
       "<div>\n",
       "<style scoped>\n",
       "    .dataframe tbody tr th:only-of-type {\n",
       "        vertical-align: middle;\n",
       "    }\n",
       "\n",
       "    .dataframe tbody tr th {\n",
       "        vertical-align: top;\n",
       "    }\n",
       "\n",
       "    .dataframe thead th {\n",
       "        text-align: right;\n",
       "    }\n",
       "</style>\n",
       "<table border=\"1\" class=\"dataframe\">\n",
       "  <thead>\n",
       "    <tr style=\"text-align: right;\">\n",
       "      <th></th>\n",
       "      <th>CensusId</th>\n",
       "      <th>TotalPop</th>\n",
       "      <th>Men</th>\n",
       "      <th>Women</th>\n",
       "      <th>Hispanic</th>\n",
       "      <th>White</th>\n",
       "      <th>Black</th>\n",
       "      <th>Native</th>\n",
       "      <th>Asian</th>\n",
       "      <th>Pacific</th>\n",
       "      <th>...</th>\n",
       "      <th>Walk</th>\n",
       "      <th>OtherTransp</th>\n",
       "      <th>WorkAtHome</th>\n",
       "      <th>MeanCommute</th>\n",
       "      <th>Employed</th>\n",
       "      <th>PrivateWork</th>\n",
       "      <th>PublicWork</th>\n",
       "      <th>SelfEmployed</th>\n",
       "      <th>FamilyWork</th>\n",
       "      <th>Unemployment</th>\n",
       "    </tr>\n",
       "  </thead>\n",
       "  <tbody>\n",
       "    <tr>\n",
       "      <th>count</th>\n",
       "      <td>3220.000000</td>\n",
       "      <td>3.220000e+03</td>\n",
       "      <td>3.220000e+03</td>\n",
       "      <td>3.220000e+03</td>\n",
       "      <td>3220.000000</td>\n",
       "      <td>3220.000000</td>\n",
       "      <td>3220.000000</td>\n",
       "      <td>3220.000000</td>\n",
       "      <td>3220.000000</td>\n",
       "      <td>3220.000000</td>\n",
       "      <td>...</td>\n",
       "      <td>3220.000000</td>\n",
       "      <td>3220.000000</td>\n",
       "      <td>3220.000000</td>\n",
       "      <td>3220.000000</td>\n",
       "      <td>3.220000e+03</td>\n",
       "      <td>3220.000000</td>\n",
       "      <td>3220.000000</td>\n",
       "      <td>3220.000000</td>\n",
       "      <td>3220.000000</td>\n",
       "      <td>3220.000000</td>\n",
       "    </tr>\n",
       "    <tr>\n",
       "      <th>mean</th>\n",
       "      <td>31393.605280</td>\n",
       "      <td>9.940935e+04</td>\n",
       "      <td>4.889694e+04</td>\n",
       "      <td>5.051241e+04</td>\n",
       "      <td>11.011522</td>\n",
       "      <td>75.428789</td>\n",
       "      <td>8.665497</td>\n",
       "      <td>1.723509</td>\n",
       "      <td>1.229068</td>\n",
       "      <td>0.082733</td>\n",
       "      <td>...</td>\n",
       "      <td>3.323509</td>\n",
       "      <td>1.612733</td>\n",
       "      <td>4.631770</td>\n",
       "      <td>23.278758</td>\n",
       "      <td>4.559352e+04</td>\n",
       "      <td>74.219348</td>\n",
       "      <td>17.560870</td>\n",
       "      <td>7.931801</td>\n",
       "      <td>0.288106</td>\n",
       "      <td>8.094441</td>\n",
       "    </tr>\n",
       "    <tr>\n",
       "      <th>std</th>\n",
       "      <td>16292.078954</td>\n",
       "      <td>3.193055e+05</td>\n",
       "      <td>1.566813e+05</td>\n",
       "      <td>1.626620e+05</td>\n",
       "      <td>19.241380</td>\n",
       "      <td>22.932890</td>\n",
       "      <td>14.279122</td>\n",
       "      <td>7.253115</td>\n",
       "      <td>2.633079</td>\n",
       "      <td>0.734931</td>\n",
       "      <td>...</td>\n",
       "      <td>3.756096</td>\n",
       "      <td>1.670988</td>\n",
       "      <td>3.178772</td>\n",
       "      <td>5.600466</td>\n",
       "      <td>1.496995e+05</td>\n",
       "      <td>7.863188</td>\n",
       "      <td>6.510354</td>\n",
       "      <td>3.914974</td>\n",
       "      <td>0.455137</td>\n",
       "      <td>4.096114</td>\n",
       "    </tr>\n",
       "    <tr>\n",
       "      <th>min</th>\n",
       "      <td>1001.000000</td>\n",
       "      <td>8.500000e+01</td>\n",
       "      <td>4.200000e+01</td>\n",
       "      <td>4.300000e+01</td>\n",
       "      <td>0.000000</td>\n",
       "      <td>0.000000</td>\n",
       "      <td>0.000000</td>\n",
       "      <td>0.000000</td>\n",
       "      <td>0.000000</td>\n",
       "      <td>0.000000</td>\n",
       "      <td>...</td>\n",
       "      <td>0.000000</td>\n",
       "      <td>0.000000</td>\n",
       "      <td>0.000000</td>\n",
       "      <td>4.900000</td>\n",
       "      <td>6.200000e+01</td>\n",
       "      <td>25.000000</td>\n",
       "      <td>5.800000</td>\n",
       "      <td>0.000000</td>\n",
       "      <td>0.000000</td>\n",
       "      <td>0.000000</td>\n",
       "    </tr>\n",
       "    <tr>\n",
       "      <th>25%</th>\n",
       "      <td>19032.500000</td>\n",
       "      <td>1.121800e+04</td>\n",
       "      <td>5.637250e+03</td>\n",
       "      <td>5.572000e+03</td>\n",
       "      <td>1.900000</td>\n",
       "      <td>64.100000</td>\n",
       "      <td>0.500000</td>\n",
       "      <td>0.100000</td>\n",
       "      <td>0.200000</td>\n",
       "      <td>0.000000</td>\n",
       "      <td>...</td>\n",
       "      <td>1.400000</td>\n",
       "      <td>0.900000</td>\n",
       "      <td>2.700000</td>\n",
       "      <td>19.500000</td>\n",
       "      <td>4.550750e+03</td>\n",
       "      <td>70.500000</td>\n",
       "      <td>13.100000</td>\n",
       "      <td>5.400000</td>\n",
       "      <td>0.100000</td>\n",
       "      <td>5.500000</td>\n",
       "    </tr>\n",
       "    <tr>\n",
       "      <th>50%</th>\n",
       "      <td>30024.000000</td>\n",
       "      <td>2.603500e+04</td>\n",
       "      <td>1.293200e+04</td>\n",
       "      <td>1.305700e+04</td>\n",
       "      <td>3.900000</td>\n",
       "      <td>84.100000</td>\n",
       "      <td>1.900000</td>\n",
       "      <td>0.300000</td>\n",
       "      <td>0.500000</td>\n",
       "      <td>0.000000</td>\n",
       "      <td>...</td>\n",
       "      <td>2.400000</td>\n",
       "      <td>1.300000</td>\n",
       "      <td>3.900000</td>\n",
       "      <td>23.000000</td>\n",
       "      <td>1.050800e+04</td>\n",
       "      <td>75.700000</td>\n",
       "      <td>16.200000</td>\n",
       "      <td>6.900000</td>\n",
       "      <td>0.200000</td>\n",
       "      <td>7.600000</td>\n",
       "    </tr>\n",
       "    <tr>\n",
       "      <th>75%</th>\n",
       "      <td>46105.500000</td>\n",
       "      <td>6.643050e+04</td>\n",
       "      <td>3.299275e+04</td>\n",
       "      <td>3.348750e+04</td>\n",
       "      <td>9.825000</td>\n",
       "      <td>93.200000</td>\n",
       "      <td>9.600000</td>\n",
       "      <td>0.600000</td>\n",
       "      <td>1.200000</td>\n",
       "      <td>0.000000</td>\n",
       "      <td>...</td>\n",
       "      <td>4.000000</td>\n",
       "      <td>1.900000</td>\n",
       "      <td>5.600000</td>\n",
       "      <td>26.800000</td>\n",
       "      <td>2.863275e+04</td>\n",
       "      <td>79.700000</td>\n",
       "      <td>20.500000</td>\n",
       "      <td>9.400000</td>\n",
       "      <td>0.300000</td>\n",
       "      <td>9.900000</td>\n",
       "    </tr>\n",
       "    <tr>\n",
       "      <th>max</th>\n",
       "      <td>72153.000000</td>\n",
       "      <td>1.003839e+07</td>\n",
       "      <td>4.945351e+06</td>\n",
       "      <td>5.093037e+06</td>\n",
       "      <td>99.900000</td>\n",
       "      <td>99.800000</td>\n",
       "      <td>85.900000</td>\n",
       "      <td>92.100000</td>\n",
       "      <td>41.600000</td>\n",
       "      <td>35.300000</td>\n",
       "      <td>...</td>\n",
       "      <td>71.200000</td>\n",
       "      <td>39.100000</td>\n",
       "      <td>37.200000</td>\n",
       "      <td>44.000000</td>\n",
       "      <td>4.635465e+06</td>\n",
       "      <td>88.300000</td>\n",
       "      <td>66.200000</td>\n",
       "      <td>36.600000</td>\n",
       "      <td>9.800000</td>\n",
       "      <td>36.500000</td>\n",
       "    </tr>\n",
       "  </tbody>\n",
       "</table>\n",
       "<p>8 rows × 35 columns</p>\n",
       "</div>"
      ],
      "text/plain": [
       "           CensusId      TotalPop           Men         Women     Hispanic  \\\n",
       "count   3220.000000  3.220000e+03  3.220000e+03  3.220000e+03  3220.000000   \n",
       "mean   31393.605280  9.940935e+04  4.889694e+04  5.051241e+04    11.011522   \n",
       "std    16292.078954  3.193055e+05  1.566813e+05  1.626620e+05    19.241380   \n",
       "min     1001.000000  8.500000e+01  4.200000e+01  4.300000e+01     0.000000   \n",
       "25%    19032.500000  1.121800e+04  5.637250e+03  5.572000e+03     1.900000   \n",
       "50%    30024.000000  2.603500e+04  1.293200e+04  1.305700e+04     3.900000   \n",
       "75%    46105.500000  6.643050e+04  3.299275e+04  3.348750e+04     9.825000   \n",
       "max    72153.000000  1.003839e+07  4.945351e+06  5.093037e+06    99.900000   \n",
       "\n",
       "             White        Black       Native        Asian      Pacific  ...  \\\n",
       "count  3220.000000  3220.000000  3220.000000  3220.000000  3220.000000  ...   \n",
       "mean     75.428789     8.665497     1.723509     1.229068     0.082733  ...   \n",
       "std      22.932890    14.279122     7.253115     2.633079     0.734931  ...   \n",
       "min       0.000000     0.000000     0.000000     0.000000     0.000000  ...   \n",
       "25%      64.100000     0.500000     0.100000     0.200000     0.000000  ...   \n",
       "50%      84.100000     1.900000     0.300000     0.500000     0.000000  ...   \n",
       "75%      93.200000     9.600000     0.600000     1.200000     0.000000  ...   \n",
       "max      99.800000    85.900000    92.100000    41.600000    35.300000  ...   \n",
       "\n",
       "              Walk  OtherTransp   WorkAtHome  MeanCommute      Employed  \\\n",
       "count  3220.000000  3220.000000  3220.000000  3220.000000  3.220000e+03   \n",
       "mean      3.323509     1.612733     4.631770    23.278758  4.559352e+04   \n",
       "std       3.756096     1.670988     3.178772     5.600466  1.496995e+05   \n",
       "min       0.000000     0.000000     0.000000     4.900000  6.200000e+01   \n",
       "25%       1.400000     0.900000     2.700000    19.500000  4.550750e+03   \n",
       "50%       2.400000     1.300000     3.900000    23.000000  1.050800e+04   \n",
       "75%       4.000000     1.900000     5.600000    26.800000  2.863275e+04   \n",
       "max      71.200000    39.100000    37.200000    44.000000  4.635465e+06   \n",
       "\n",
       "       PrivateWork   PublicWork  SelfEmployed   FamilyWork  Unemployment  \n",
       "count  3220.000000  3220.000000   3220.000000  3220.000000   3220.000000  \n",
       "mean     74.219348    17.560870      7.931801     0.288106      8.094441  \n",
       "std       7.863188     6.510354      3.914974     0.455137      4.096114  \n",
       "min      25.000000     5.800000      0.000000     0.000000      0.000000  \n",
       "25%      70.500000    13.100000      5.400000     0.100000      5.500000  \n",
       "50%      75.700000    16.200000      6.900000     0.200000      7.600000  \n",
       "75%      79.700000    20.500000      9.400000     0.300000      9.900000  \n",
       "max      88.300000    66.200000     36.600000     9.800000     36.500000  \n",
       "\n",
       "[8 rows x 35 columns]"
      ]
     },
     "execution_count": 3,
     "metadata": {},
     "output_type": "execute_result"
    }
   ],
   "source": [
    "import matplotlib.pyplot as plt\n",
    "%matplotlib inline\n",
    "import pandas as pd\n",
    "\n",
    "census = pd.read_csv('../data/acs2015_county_data.csv')\n",
    "census.describe()"
   ]
  },
  {
   "cell_type": "markdown",
   "metadata": {},
   "source": [
    "Before using our algorithm, we need to do some munging. Our first step should be to check for missing data and based on the amount of missing data decide on a strategy."
   ]
  },
  {
   "cell_type": "code",
   "execution_count": 4,
   "metadata": {},
   "outputs": [
    {
     "data": {
      "text/plain": [
       "CensusId           0\n",
       "State              0\n",
       "County             0\n",
       "TotalPop           0\n",
       "Men                0\n",
       "Women              0\n",
       "Hispanic           0\n",
       "White              0\n",
       "Black              0\n",
       "Native             0\n",
       "Asian              0\n",
       "Pacific            0\n",
       "Citizen            0\n",
       "Income             1\n",
       "IncomeErr          1\n",
       "IncomePerCap       0\n",
       "IncomePerCapErr    0\n",
       "Poverty            0\n",
       "ChildPoverty       1\n",
       "Professional       0\n",
       "Service            0\n",
       "Office             0\n",
       "Construction       0\n",
       "Production         0\n",
       "Drive              0\n",
       "Carpool            0\n",
       "Transit            0\n",
       "Walk               0\n",
       "OtherTransp        0\n",
       "WorkAtHome         0\n",
       "MeanCommute        0\n",
       "Employed           0\n",
       "PrivateWork        0\n",
       "PublicWork         0\n",
       "SelfEmployed       0\n",
       "FamilyWork         0\n",
       "Unemployment       0\n",
       "dtype: int64"
      ]
     },
     "execution_count": 4,
     "metadata": {},
     "output_type": "execute_result"
    }
   ],
   "source": [
    "census.isnull().sum(axis = 0)"
   ]
  },
  {
   "cell_type": "markdown",
   "metadata": {},
   "source": [
    "There are only a few columns with missing data and each one of them does not have more than one missing observation. Therefore, the simplest strategy would be to remove the missing data."
   ]
  },
  {
   "cell_type": "code",
   "execution_count": 5,
   "metadata": {},
   "outputs": [],
   "source": [
    "census_missing = census.dropna()"
   ]
  },
  {
   "cell_type": "markdown",
   "metadata": {},
   "source": [
    "Additionally, we should only be clustering using columns that contain actual information about the data. Therefore, we should probably remove the State and County columns. We should also remove the CensusId column because it contains no information about the each county."
   ]
  },
  {
   "cell_type": "code",
   "execution_count": 6,
   "metadata": {},
   "outputs": [],
   "source": [
    "census_columns = [col for col in census.columns.values if col not in ['CensusId', 'State', 'County']]"
   ]
  },
  {
   "cell_type": "markdown",
   "metadata": {},
   "source": [
    "Now let's import Kmeans from scikit-learn: "
   ]
  },
  {
   "cell_type": "code",
   "execution_count": 7,
   "metadata": {},
   "outputs": [],
   "source": [
    "from sklearn.cluster import KMeans\n",
    "\n",
    "kmeans = KMeans(n_clusters=4)"
   ]
  },
  {
   "cell_type": "markdown",
   "metadata": {},
   "source": [
    "We define a k-means object with 4 clusters and then fit our data"
   ]
  },
  {
   "cell_type": "code",
   "execution_count": 8,
   "metadata": {},
   "outputs": [
    {
     "data": {
      "text/plain": [
       "array([[4.86137678e+04, 2.40621967e+04, 2.45515711e+04, 1.05567434e+01,\n",
       "        7.64794408e+01, 8.35263158e+00, 1.80161184e+00, 9.32302632e-01,\n",
       "        6.60197368e-02, 3.59949480e+04, 4.52585901e+04, 2.96736349e+03,\n",
       "        2.35332332e+04, 1.41598651e+03, 1.76663816e+01, 2.44105263e+01,\n",
       "        3.05263158e+01, 1.83702632e+01, 2.20742434e+01, 1.29949671e+01,\n",
       "        1.60345066e+01, 7.94196711e+01, 1.03449342e+01, 6.61085526e-01,\n",
       "        3.34588816e+00, 1.59351974e+00, 4.63578947e+00, 2.30830263e+01,\n",
       "        2.15065523e+04, 7.38485197e+01, 1.77832895e+01, 8.07098684e+00,\n",
       "        2.97006579e-01, 8.08003289e+00],\n",
       "       [2.59497053e+06, 1.27467168e+06, 1.32029884e+06, 3.28736842e+01,\n",
       "        3.98684211e+01, 1.44368421e+01, 3.31578947e-01, 9.75789474e+00,\n",
       "        1.89473684e-01, 1.65020984e+06, 5.85898947e+04, 4.97473684e+02,\n",
       "        3.08353158e+04, 2.48105263e+02, 1.68368421e+01, 2.35842105e+01,\n",
       "        3.71842105e+01, 1.95105263e+01, 2.45473684e+01, 8.02631579e+00,\n",
       "        1.07368421e+01, 6.73736842e+01, 9.48947368e+00, 1.28210526e+01,\n",
       "        3.63684211e+00, 2.17894737e+00, 4.51052632e+00, 2.92157895e+01,\n",
       "        1.20507611e+06, 8.17000000e+01, 1.18947368e+01, 6.28421053e+00,\n",
       "        1.36842105e-01, 9.23157895e+00],\n",
       "       [1.00383880e+07, 4.94535100e+06, 5.09303700e+06, 4.82000000e+01,\n",
       "        2.69000000e+01, 8.00000000e+00, 2.00000000e-01, 1.40000000e+01,\n",
       "        2.00000000e-01, 6.04674900e+06, 5.61960000e+04, 2.70000000e+02,\n",
       "        2.83370000e+04, 1.13000000e+02, 1.82000000e+01, 2.58000000e+01,\n",
       "        3.57000000e+01, 1.91000000e+01, 2.46000000e+01, 7.80000000e+00,\n",
       "        1.28000000e+01, 7.30000000e+01, 9.90000000e+00, 6.80000000e+00,\n",
       "        2.80000000e+00, 2.30000000e+00, 5.10000000e+00, 3.00000000e+01,\n",
       "        4.63546500e+06, 7.90000000e+01, 1.15000000e+01, 9.40000000e+00,\n",
       "        2.00000000e-01, 1.00000000e+01],\n",
       "       [7.14995000e+05, 3.48954639e+05, 3.66040361e+05, 1.67854430e+01,\n",
       "        6.02544304e+01, 1.41050633e+01, 3.38607595e-01, 5.71392405e+00,\n",
       "        1.68354430e-01, 4.95983386e+05, 6.12043038e+04, 8.54474684e+02,\n",
       "        3.16039367e+04, 3.98056962e+02, 1.41791139e+01, 1.99753165e+01,\n",
       "        3.92006329e+01, 1.76835443e+01, 2.45822785e+01, 8.00569620e+00,\n",
       "        1.05272152e+01, 7.64436709e+01, 9.11392405e+00, 5.50126582e+00,\n",
       "        2.59430380e+00, 1.83607595e+00, 4.50379747e+00, 2.63639241e+01,\n",
       "        3.41134006e+05, 8.07563291e+01, 1.36443038e+01, 5.46392405e+00,\n",
       "        1.39240506e-01, 8.22974684e+00]])"
      ]
     },
     "execution_count": 8,
     "metadata": {},
     "output_type": "execute_result"
    }
   ],
   "source": [
    "census_clusters = kmeans.fit(census_missing[census_columns])\n",
    "census_clusters.cluster_centers_"
   ]
  },
  {
   "cell_type": "markdown",
   "metadata": {},
   "source": [
    "The cluster centers contain the 4 centroids. Since the data contains 34 columns describing each county, each centroid is in a 34 dimensional plane.\n",
    "\n",
    "Using fit_predict, we can assign a cluster to each observation and then add this information back to our dataset. "
   ]
  },
  {
   "cell_type": "code",
   "execution_count": 9,
   "metadata": {},
   "outputs": [
    {
     "name": "stderr",
     "output_type": "stream",
     "text": [
      "C:\\Users\\Arturo\\AppData\\Local\\Temp\\ipykernel_48888\\532130096.py:1: SettingWithCopyWarning: \n",
      "A value is trying to be set on a copy of a slice from a DataFrame.\n",
      "Try using .loc[row_indexer,col_indexer] = value instead\n",
      "\n",
      "See the caveats in the documentation: https://pandas.pydata.org/pandas-docs/stable/user_guide/indexing.html#returning-a-view-versus-a-copy\n",
      "  census_missing['Cluster'] = census_clusters.fit_predict(census_missing[census_columns])\n"
     ]
    }
   ],
   "source": [
    "census_missing['Cluster'] = census_clusters.fit_predict(census_missing[census_columns])"
   ]
  },
  {
   "cell_type": "markdown",
   "metadata": {},
   "source": [
    "Let's look at the counts of counties in each cluster:"
   ]
  },
  {
   "cell_type": "code",
   "execution_count": 10,
   "metadata": {},
   "outputs": [
    {
     "data": {
      "text/plain": [
       "Cluster\n",
       "0    3040\n",
       "2     158\n",
       "1      19\n",
       "3       1\n",
       "Name: count, dtype: int64"
      ]
     },
     "execution_count": 10,
     "metadata": {},
     "output_type": "execute_result"
    }
   ],
   "source": [
    "census_missing.Cluster.value_counts()"
   ]
  },
  {
   "cell_type": "markdown",
   "metadata": {},
   "source": [
    "The majority of the data is in the first cluster, while cluster 2 has only one obervation.\n",
    "\n",
    "Plotting the data will not provide us with a great deal of meaningful information. This is because the data has 34 dimensions. Therefore, creating a two dimensional plot will only capture some of the information and might not show completely separable clusters. However, it is interesting to look at some summary statistics for our clusters.\n",
    "\n",
    "We can look at the count of counties by state for each cluster"
   ]
  },
  {
   "cell_type": "code",
   "execution_count": 11,
   "metadata": {},
   "outputs": [
    {
     "data": {
      "text/plain": [
       "State\n",
       "Texas             240\n",
       "Georgia           155\n",
       "Virginia          130\n",
       "Kentucky          119\n",
       "Missouri          112\n",
       "Kansas            103\n",
       "Iowa               98\n",
       "North Carolina     97\n",
       "Illinois           97\n",
       "Tennessee          92\n",
       "Nebraska           92\n",
       "Indiana            90\n",
       "Minnesota          84\n",
       "Mississippi        82\n",
       "Ohio               81\n",
       "Puerto Rico        78\n",
       "Michigan           78\n",
       "Oklahoma           75\n",
       "Arkansas           74\n",
       "Wisconsin          69\n",
       "South Dakota       66\n",
       "Alabama            65\n",
       "Louisiana          61\n",
       "Colorado           59\n",
       "Pennsylvania       58\n",
       "Montana            56\n",
       "West Virginia      55\n",
       "Florida            53\n",
       "North Dakota       53\n",
       "New York           51\n",
       "South Carolina     43\n",
       "Idaho              43\n",
       "California         37\n",
       "Washington         34\n",
       "Oregon             33\n",
       "New Mexico         32\n",
       "Alaska             29\n",
       "Utah               27\n",
       "Wyoming            23\n",
       "Maryland           19\n",
       "Maine              16\n",
       "Nevada             15\n",
       "Vermont            14\n",
       "Arizona            13\n",
       "New Jersey         10\n",
       "New Hampshire       9\n",
       "Massachusetts       6\n",
       "Connecticut         5\n",
       "Rhode Island        4\n",
       "Hawaii              3\n",
       "Delaware            2\n",
       "Name: count, dtype: int64"
      ]
     },
     "execution_count": 11,
     "metadata": {},
     "output_type": "execute_result"
    }
   ],
   "source": [
    "census_missing[census_missing.Cluster == 0].State.value_counts()"
   ]
  },
  {
   "cell_type": "code",
   "execution_count": 12,
   "metadata": {},
   "outputs": [
    {
     "data": {
      "text/plain": [
       "State\n",
       "California    5\n",
       "Texas         4\n",
       "New York      3\n",
       "Florida       2\n",
       "Arizona       1\n",
       "Michigan      1\n",
       "Illinois      1\n",
       "Nevada        1\n",
       "Washington    1\n",
       "Name: count, dtype: int64"
      ]
     },
     "execution_count": 12,
     "metadata": {},
     "output_type": "execute_result"
    }
   ],
   "source": [
    "census_missing[census_missing.Cluster == 1].State.value_counts()"
   ]
  },
  {
   "cell_type": "code",
   "execution_count": 13,
   "metadata": {},
   "outputs": [
    {
     "data": {
      "text/plain": [
       "State\n",
       "California              15\n",
       "Florida                 12\n",
       "New Jersey              11\n",
       "Pennsylvania             9\n",
       "Texas                    9\n",
       "Massachusetts            8\n",
       "New York                 8\n",
       "Ohio                     7\n",
       "Colorado                 5\n",
       "Maryland                 5\n",
       "Washington               4\n",
       "Michigan                 4\n",
       "Georgia                  4\n",
       "Illinois                 4\n",
       "Minnesota                3\n",
       "Connecticut              3\n",
       "South Carolina           3\n",
       "Oregon                   3\n",
       "Tennessee                3\n",
       "Virginia                 3\n",
       "North Carolina           3\n",
       "Wisconsin                3\n",
       "Missouri                 3\n",
       "Louisiana                3\n",
       "Alabama                  2\n",
       "Kansas                   2\n",
       "Utah                     2\n",
       "Oklahoma                 2\n",
       "Indiana                  2\n",
       "Arizona                  1\n",
       "Delaware                 1\n",
       "District of Columbia     1\n",
       "Arkansas                 1\n",
       "Iowa                     1\n",
       "New Hampshire            1\n",
       "Nevada                   1\n",
       "Nebraska                 1\n",
       "Kentucky                 1\n",
       "Hawaii                   1\n",
       "Idaho                    1\n",
       "New Mexico               1\n",
       "Rhode Island             1\n",
       "Name: count, dtype: int64"
      ]
     },
     "execution_count": 13,
     "metadata": {},
     "output_type": "execute_result"
    }
   ],
   "source": [
    "census_missing[census_missing.Cluster == 2].State.value_counts()"
   ]
  },
  {
   "cell_type": "code",
   "execution_count": 14,
   "metadata": {},
   "outputs": [
    {
     "data": {
      "text/plain": [
       "State\n",
       "California    1\n",
       "Name: count, dtype: int64"
      ]
     },
     "execution_count": 14,
     "metadata": {},
     "output_type": "execute_result"
    }
   ],
   "source": [
    "census_missing[census_missing.Cluster == 3].State.value_counts()"
   ]
  },
  {
   "cell_type": "markdown",
   "metadata": {},
   "source": [
    "We can also look at the mean income and the mean rate of child poverty for each of the 4 clusters.\n",
    "\n"
   ]
  },
  {
   "cell_type": "code",
   "execution_count": 15,
   "metadata": {},
   "outputs": [
    {
     "data": {
      "text/plain": [
       "Cluster\n",
       "0    45258.590132\n",
       "1    58589.894737\n",
       "2    61204.303797\n",
       "3    56196.000000\n",
       "Name: Income, dtype: float64"
      ]
     },
     "execution_count": 15,
     "metadata": {},
     "output_type": "execute_result"
    }
   ],
   "source": [
    "census_missing.groupby(['Cluster'])['Income'].mean()"
   ]
  },
  {
   "cell_type": "code",
   "execution_count": 16,
   "metadata": {},
   "outputs": [
    {
     "data": {
      "text/plain": [
       "Cluster\n",
       "0    24.410526\n",
       "1    23.584211\n",
       "2    19.975316\n",
       "3    25.800000\n",
       "Name: ChildPoverty, dtype: float64"
      ]
     },
     "execution_count": 16,
     "metadata": {},
     "output_type": "execute_result"
    }
   ],
   "source": [
    "census_missing.groupby(['Cluster'])['ChildPoverty'].mean()"
   ]
  },
  {
   "cell_type": "markdown",
   "metadata": {},
   "source": [
    "# Hierarchical Clustering\n",
    "\n",
    "Hierarchical clustering is a clustering technique where we create a hierarchy of clusters. The advantage over k-means is that we do not need to specify the number of clusters. We can observe relationships between observations without a predetermined number of clusters. We can also generate a dendogram which is a visualization that displays the relationship between observations in the data.\n",
    "\n",
    "There are two types of hierarchical clustering\n",
    "\n",
    "    Agglomerative - This is a bottom up approach. We start off with a cluster for each observation and \n",
    "    then combine similar clusters until we are left with only one large cluster\n",
    "\n",
    "    Divisive - This is a top down approach. We start with one large cluster and keep dividing until \n",
    "    we are left with clusters\n",
    "\n",
    "**Hierarchical Clustering with Scikit-learn**\n",
    "\n",
    "Hierarchical clustering with scikit-learn is performed using the AgglomerativeClustering function.\n",
    "\n",
    "In order to demonstrate hierarchical clustering, we will use the census data again. This time, we will take a sample to ensure a clear and uncluttered dendogram just for the sake of this demo."
   ]
  },
  {
   "cell_type": "code",
   "execution_count": 17,
   "metadata": {},
   "outputs": [],
   "source": [
    "from sklearn.cluster import AgglomerativeClustering\n",
    "\n",
    "census_sample = census_missing[census_columns].sample(n=100)\n",
    "hier_clust = AgglomerativeClustering(linkage='ward')\n",
    "census_hier = hier_clust.fit(census_sample)"
   ]
  },
  {
   "cell_type": "markdown",
   "metadata": {},
   "source": [
    "In order to plot our dendogram, we need to do some data manipulation. This is because the function to plot a dendogram exists in scipy and not in scikit-learn and requires a slightly different data format."
   ]
  },
  {
   "cell_type": "code",
   "execution_count": 18,
   "metadata": {},
   "outputs": [
    {
     "data": {
      "image/png": "[encoded data removed]",
      "text/plain": [
       "<Figure size 1200x600 with 1 Axes>"
      ]
     },
     "metadata": {},
     "output_type": "display_data"
    }
   ],
   "source": [
    "import numpy as np\n",
    "from scipy.cluster.hierarchy import dendrogram\n",
    "import matplotlib.pyplot as plt\n",
    "\n",
    "def plot_dendrogram(model, **kwargs):\n",
    "\n",
    "    # Children of hierarchical clustering\n",
    "    children = model.children_\n",
    "\n",
    "    # Distances between each pair of children\n",
    "    # Since we don't have this information, we can use a uniform one for plotting\n",
    "    distance = np.arange(children.shape[0])\n",
    "\n",
    "    # The number of observations contained in each cluster level\n",
    "    no_of_observations = np.arange(2, children.shape[0]+2)\n",
    "\n",
    "    # Create linkage matrix and then plot the dendrogram\n",
    "    linkage_matrix = np.column_stack([children, distance, no_of_observations]).astype(float)\n",
    "\n",
    "    # Plot the corresponding dendrogram\n",
    "    plt.figure(figsize=(12,6))\n",
    "    dendrogram(linkage_matrix, **kwargs)\n",
    "    \n",
    "plot_dendrogram(census_hier, labels=census_hier.labels_)"
   ]
  },
  {
   "cell_type": "code",
   "execution_count": null,
   "metadata": {},
   "outputs": [],
   "source": []
  }
 ],
 "metadata": {
  "kernelspec": {
   "display_name": "Python 3",
   "language": "python",
   "name": "python3"
  },
  "language_info": {
   "codemirror_mode": {
    "name": "ipython",
    "version": 3
   },
   "file_extension": ".py",
   "mimetype": "text/x-python",
   "name": "python",
   "nbconvert_exporter": "python",
   "pygments_lexer": "ipython3",
   "version": "3.13.2"
  }
 },
 "nbformat": 4,
 "nbformat_minor": 2
}
